{
 "cells": [
  {
   "cell_type": "markdown",
   "id": "7688d059",
   "metadata": {},
   "source": [
    "# Searching for Sushi in Honolulu\n",
    "- Andrea Cohen\n",
    "- 03.01.2023"
   ]
  },
  {
   "cell_type": "markdown",
   "id": "b470a55b",
   "metadata": {},
   "source": [
    "## Imports"
   ]
  },
  {
   "cell_type": "code",
   "execution_count": 1,
   "id": "03613485",
   "metadata": {},
   "outputs": [],
   "source": [
    "import pandas as pd\n",
    "import os, json, math, time\n",
    "from yelpapi import YelpAPI\n",
    "from tqdm.notebook import tqdm_notebook"
   ]
  },
  {
   "cell_type": "markdown",
   "id": "802ecbf4",
   "metadata": {},
   "source": [
    "## Credentials and Accessing the API"
   ]
  },
  {
   "cell_type": "code",
   "execution_count": 2,
   "id": "4819dfce",
   "metadata": {},
   "outputs": [],
   "source": [
    "# Load API Credentials\n",
    "with open('/Users/andreacohen/.secret/yelp_api.json') as f:\n",
    "    login = json.load(f)\n",
    "# Instantiate YelpAPI Variable\n",
    "yelp_api = YelpAPI(login['api-key'], timeout_s=5.0)"
   ]
  },
  {
   "cell_type": "markdown",
   "id": "d98dee93",
   "metadata": {},
   "source": [
    "## Define Search"
   ]
  },
  {
   "cell_type": "code",
   "execution_count": 3,
   "id": "47105372",
   "metadata": {},
   "outputs": [],
   "source": [
    "# set API call parameters \n",
    "LOCATION = 'New York, NY'\n",
    "TERM = 'Sushi'"
   ]
  },
  {
   "cell_type": "markdown",
   "id": "178553a1",
   "metadata": {},
   "source": [
    "## Create a results-in-progress JSON file, but only if it doesn't exist"
   ]
  },
  {
   "cell_type": "code",
   "execution_count": 4,
   "id": "be48e0cd",
   "metadata": {},
   "outputs": [
    {
     "data": {
      "text/plain": [
       "'Data/results_in_progress_NewYork_sushi.json'"
      ]
     },
     "execution_count": 4,
     "metadata": {},
     "output_type": "execute_result"
    }
   ],
   "source": [
    "# Specifying JSON_FILE filename (can include a folder)\n",
    "# include the search terms in the filename\n",
    "JSON_FILE = \"Data/results_in_progress_NewYork_sushi.json\"\n",
    "JSON_FILE"
   ]
  },
  {
   "cell_type": "code",
   "execution_count": 5,
   "id": "9024d27f",
   "metadata": {},
   "outputs": [
    {
     "name": "stdout",
     "output_type": "stream",
     "text": [
      "[i] Data/results_in_progress_NewYork_sushi.json already exists.\n"
     ]
    }
   ],
   "source": [
    "## Check if JSON_FILE exists\n",
    "file_exists = os.path.isfile(JSON_FILE)\n",
    "## If it does not exist:\n",
    "if file_exists == False:\n",
    "    ## CREATE ANY NEEDED FOLDERS\n",
    "    # Get the Folder Name only\n",
    "    folder = os.path.dirname(JSON_FILE)\n",
    "    ## If JSON_FILE included a folder:\n",
    "    if len(folder)>0:\n",
    "        # create the folder\n",
    "        os.makedirs(folder,exist_ok=True)\n",
    "    ## INFORM USER AND SAVE EMPTY LIST\n",
    "    print(f'[i] {JSON_FILE} not found. Saving empty list to file.')\n",
    "    # save an empty list\n",
    "    with open(JSON_FILE,'w') as f:\n",
    "        json.dump([],f)\n",
    "# If it exists, inform user\n",
    "else:\n",
    "    print(f\"[i] {JSON_FILE} already exists.\")"
   ]
  },
  {
   "cell_type": "markdown",
   "id": "08497b45",
   "metadata": {},
   "source": [
    "## Determine how many results are already in the file"
   ]
  },
  {
   "cell_type": "code",
   "execution_count": 6,
   "id": "62b74161",
   "metadata": {},
   "outputs": [
    {
     "name": "stdout",
     "output_type": "stream",
     "text": [
      "- 0 previous results found.\n"
     ]
    }
   ],
   "source": [
    "## Load previous results and use len of results for offset\n",
    "with open(JSON_FILE,'r') as f:\n",
    "    previous_results = json.load(f)\n",
    "## set offset based on previous results\n",
    "n_results = len(previous_results)\n",
    "print(f'- {n_results} previous results found.')"
   ]
  },
  {
   "cell_type": "markdown",
   "id": "be2b8030",
   "metadata": {},
   "source": [
    "## Figure out how many pages of results we will need"
   ]
  },
  {
   "cell_type": "code",
   "execution_count": 7,
   "id": "24319710",
   "metadata": {},
   "outputs": [
    {
     "data": {
      "text/plain": [
       "dict_keys(['businesses', 'total', 'region'])"
      ]
     },
     "execution_count": 7,
     "metadata": {},
     "output_type": "execute_result"
    }
   ],
   "source": [
    "# use yelp_api variable's search_query method to perform our API call\n",
    "search_results = yelp_api.search_query(location=LOCATION,\n",
    "                               term=TERM,\n",
    "                               offset=n_results)\n",
    "search_results.keys()"
   ]
  },
  {
   "cell_type": "code",
   "execution_count": 8,
   "id": "1c2056b0",
   "metadata": {},
   "outputs": [
    {
     "data": {
      "text/plain": [
       "260"
      ]
     },
     "execution_count": 8,
     "metadata": {},
     "output_type": "execute_result"
    }
   ],
   "source": [
    "## How many results total?\n",
    "total_results = search_results['total']\n",
    "## How many did we get the details for?\n",
    "results_per_page = len(search_results['businesses'])\n",
    "# Use math.ceil to round up for the total number of pages of results.\n",
    "n_pages = math.ceil((search_results['total']-n_results)/results_per_page)\n",
    "n_pages"
   ]
  },
  {
   "cell_type": "markdown",
   "id": "6265ac34",
   "metadata": {},
   "source": [
    "## Add this page of results to .json file"
   ]
  },
  {
   "cell_type": "code",
   "execution_count": 9,
   "id": "fe462d00",
   "metadata": {},
   "outputs": [],
   "source": [
    "# join new results with old list with extend and save to file\n",
    "previous_results.extend(search_results['businesses'])\n",
    "with open(JSON_FILE,'w') as f:\n",
    "    json.dump(previous_results,f)"
   ]
  },
  {
   "cell_type": "markdown",
   "id": "f16b49e6",
   "metadata": {},
   "source": [
    "## For Loop to call each page, including a progress bar"
   ]
  },
  {
   "cell_type": "code",
   "execution_count": 10,
   "id": "1886552c",
   "metadata": {},
   "outputs": [
    {
     "data": {
      "application/vnd.jupyter.widget-view+json": {
       "model_id": "275185b6e7164d4dbc2ec33e94515492",
       "version_major": 2,
       "version_minor": 0
      },
      "text/plain": [
       "  0%|          | 0/260 [00:00<?, ?it/s]"
      ]
     },
     "metadata": {},
     "output_type": "display_data"
    },
    {
     "ename": "YelpAPIError",
     "evalue": "VALIDATION_ERROR: Too many results requested, limit+offset must be <= 1000.",
     "output_type": "error",
     "traceback": [
      "\u001b[0;31m---------------------------------------------------------------------------\u001b[0m",
      "\u001b[0;31mYelpAPIError\u001b[0m                              Traceback (most recent call last)",
      "Cell \u001b[0;32mIn [10], line 8\u001b[0m\n\u001b[1;32m      6\u001b[0m n_results \u001b[38;5;241m=\u001b[39m \u001b[38;5;28mlen\u001b[39m(previous_results)\n\u001b[1;32m      7\u001b[0m \u001b[38;5;66;03m## use n_results as the OFFSET\u001b[39;00m\n\u001b[0;32m----> 8\u001b[0m search_results \u001b[38;5;241m=\u001b[39m \u001b[43myelp_api\u001b[49m\u001b[38;5;241;43m.\u001b[39;49m\u001b[43msearch_query\u001b[49m\u001b[43m(\u001b[49m\u001b[43mlocation\u001b[49m\u001b[38;5;241;43m=\u001b[39;49m\u001b[43mLOCATION\u001b[49m\u001b[43m,\u001b[49m\n\u001b[1;32m      9\u001b[0m \u001b[43m                               \u001b[49m\u001b[43mterm\u001b[49m\u001b[38;5;241;43m=\u001b[39;49m\u001b[43mTERM\u001b[49m\u001b[43m,\u001b[49m\n\u001b[1;32m     10\u001b[0m \u001b[43m                               \u001b[49m\u001b[43moffset\u001b[49m\u001b[38;5;241;43m=\u001b[39;49m\u001b[43mn_results\u001b[49m\u001b[43m)\u001b[49m\n\u001b[1;32m     11\u001b[0m \u001b[38;5;66;03m## append new results and save to file\u001b[39;00m\n\u001b[1;32m     12\u001b[0m previous_results\u001b[38;5;241m.\u001b[39mextend(search_results[\u001b[38;5;124m'\u001b[39m\u001b[38;5;124mbusinesses\u001b[39m\u001b[38;5;124m'\u001b[39m])\n",
      "File \u001b[0;32m/opt/homebrew/Caskroom/miniforge/base/envs/dojo-env/lib/python3.9/site-packages/yelpapi/yelpapi.py:251\u001b[0m, in \u001b[0;36mYelpAPI.search_query\u001b[0;34m(self, **kwargs)\u001b[0m\n\u001b[1;32m    247\u001b[0m \u001b[38;5;28;01mif\u001b[39;00m \u001b[38;5;129;01mnot\u001b[39;00m kwargs\u001b[38;5;241m.\u001b[39mget(\u001b[38;5;124m'\u001b[39m\u001b[38;5;124mlocation\u001b[39m\u001b[38;5;124m'\u001b[39m) \u001b[38;5;129;01mand\u001b[39;00m (\u001b[38;5;129;01mnot\u001b[39;00m kwargs\u001b[38;5;241m.\u001b[39mget(\u001b[38;5;124m'\u001b[39m\u001b[38;5;124mlatitude\u001b[39m\u001b[38;5;124m'\u001b[39m) \u001b[38;5;129;01mor\u001b[39;00m \u001b[38;5;129;01mnot\u001b[39;00m kwargs\u001b[38;5;241m.\u001b[39mget(\u001b[38;5;124m'\u001b[39m\u001b[38;5;124mlongitude\u001b[39m\u001b[38;5;124m'\u001b[39m)):\n\u001b[1;32m    248\u001b[0m     \u001b[38;5;28;01mraise\u001b[39;00m \u001b[38;5;167;01mValueError\u001b[39;00m(\u001b[38;5;124m'\u001b[39m\u001b[38;5;124mA valid location (parameter \u001b[39m\u001b[38;5;124m\"\u001b[39m\u001b[38;5;124mlocation\u001b[39m\u001b[38;5;124m\"\u001b[39m\u001b[38;5;124m) or latitude/longitude combination \u001b[39m\u001b[38;5;124m'\u001b[39m\n\u001b[1;32m    249\u001b[0m                      \u001b[38;5;124m'\u001b[39m\u001b[38;5;124m(parameters \u001b[39m\u001b[38;5;124m\"\u001b[39m\u001b[38;5;124mlatitude\u001b[39m\u001b[38;5;124m\"\u001b[39m\u001b[38;5;124m and \u001b[39m\u001b[38;5;124m\"\u001b[39m\u001b[38;5;124mlongitude\u001b[39m\u001b[38;5;124m\"\u001b[39m\u001b[38;5;124m) must be provided.\u001b[39m\u001b[38;5;124m'\u001b[39m)\n\u001b[0;32m--> 251\u001b[0m \u001b[38;5;28;01mreturn\u001b[39;00m \u001b[38;5;28;43mself\u001b[39;49m\u001b[38;5;241;43m.\u001b[39;49m\u001b[43m_query\u001b[49m\u001b[43m(\u001b[49m\u001b[43mSEARCH_API_URL\u001b[49m\u001b[43m,\u001b[49m\u001b[43m \u001b[49m\u001b[38;5;241;43m*\u001b[39;49m\u001b[38;5;241;43m*\u001b[39;49m\u001b[43mkwargs\u001b[49m\u001b[43m)\u001b[49m\n",
      "File \u001b[0;32m/opt/homebrew/Caskroom/miniforge/base/envs/dojo-env/lib/python3.9/site-packages/yelpapi/yelpapi.py:299\u001b[0m, in \u001b[0;36mYelpAPI._query\u001b[0;34m(self, url, **kwargs)\u001b[0m\n\u001b[1;32m    295\u001b[0m \u001b[38;5;66;03m# Yelp can return one of many different API errors, so check for one of them.\u001b[39;00m\n\u001b[1;32m    296\u001b[0m \u001b[38;5;66;03m# The Yelp Fusion API does not yet have a complete list of errors, but this is on the TODO list; see\u001b[39;00m\n\u001b[1;32m    297\u001b[0m \u001b[38;5;66;03m# https://github.com/Yelp/yelp-fusion/issues/95 for more info.\u001b[39;00m\n\u001b[1;32m    298\u001b[0m \u001b[38;5;28;01mif\u001b[39;00m \u001b[38;5;124m'\u001b[39m\u001b[38;5;124merror\u001b[39m\u001b[38;5;124m'\u001b[39m \u001b[38;5;129;01min\u001b[39;00m response_json:\n\u001b[0;32m--> 299\u001b[0m     \u001b[38;5;28;01mraise\u001b[39;00m YelpAPI\u001b[38;5;241m.\u001b[39mYelpAPIError(\u001b[38;5;124m'\u001b[39m\u001b[38;5;132;01m{}\u001b[39;00m\u001b[38;5;124m: \u001b[39m\u001b[38;5;132;01m{}\u001b[39;00m\u001b[38;5;124m'\u001b[39m\u001b[38;5;241m.\u001b[39mformat(response_json[\u001b[38;5;124m'\u001b[39m\u001b[38;5;124merror\u001b[39m\u001b[38;5;124m'\u001b[39m][\u001b[38;5;124m'\u001b[39m\u001b[38;5;124mcode\u001b[39m\u001b[38;5;124m'\u001b[39m],\n\u001b[1;32m    300\u001b[0m                                                response_json[\u001b[38;5;124m'\u001b[39m\u001b[38;5;124merror\u001b[39m\u001b[38;5;124m'\u001b[39m][\u001b[38;5;124m'\u001b[39m\u001b[38;5;124mdescription\u001b[39m\u001b[38;5;124m'\u001b[39m]))\n\u001b[1;32m    302\u001b[0m \u001b[38;5;66;03m# we got a good response, so return\u001b[39;00m\n\u001b[1;32m    303\u001b[0m \u001b[38;5;28;01mreturn\u001b[39;00m response_json\n",
      "\u001b[0;31mYelpAPIError\u001b[0m: VALIDATION_ERROR: Too many results requested, limit+offset must be <= 1000."
     ]
    }
   ],
   "source": [
    "for i in tqdm_notebook(range(1,n_pages+1)):\n",
    "    ## read in results in progress file and check the length\n",
    "    with open(JSON_FILE, 'r') as f:\n",
    "        previous_results = json.load(f)\n",
    "    ## save number of results to use as offset\n",
    "    n_results = len(previous_results)\n",
    "    ## use n_results as the OFFSET\n",
    "    search_results = yelp_api.search_query(location=LOCATION,\n",
    "                                   term=TERM,\n",
    "                                   offset=n_results)\n",
    "    ## append new results and save to file\n",
    "    previous_results.extend(search_results['businesses'])\n",
    "    with open(JSON_FILE,'w') as f:\n",
    "        json.dump(previous_results,f)\n",
    "    # add a 200ms pause\n",
    "    time.sleep(.2)"
   ]
  },
  {
   "cell_type": "markdown",
   "id": "8e9e05d5",
   "metadata": {},
   "source": [
    "## Define a function to delete the previous results file and create a new one"
   ]
  },
  {
   "cell_type": "code",
   "execution_count": 11,
   "id": "11ed41e8",
   "metadata": {},
   "outputs": [],
   "source": [
    "def create_json_file(JSON_FILE, delete_if_exists=False):\n",
    "    ## Check if JSON_FILE exists\n",
    "    file_exists = os.path.isfile(JSON_FILE)\n",
    "    ## If it DOES exist:\n",
    "    if file_exists == True:\n",
    "        ## Check if user wants to delete if exists\n",
    "        if delete_if_exists==True:\n",
    "            print(f\"[!] {JSON_FILE} already exists. Deleting previous file...\")\n",
    "            ## delete file and confirm it no longer exists\n",
    "            os.remove(JSON_FILE)\n",
    "            ## recursive call to function after old file deleted\n",
    "            create_json_file(JSON_FILE, delete_if_exists=False)\n",
    "        else:\n",
    "            print(f\"[i] {JSON_FILE} already exists.\")\n",
    "    ## If it does NOT exist:\n",
    "    else:\n",
    "        ## INFORM USER AND SAVE EMPTY LIST\n",
    "        print(f\"[i] {JSON_FILE} not found. Saving empty list to new file.\")\n",
    "        ## CREATE ANY NEEDED FOLDERS\n",
    "        # Get the folder name only\n",
    "        folder = os.path.dirname(JSON_FILE)\n",
    "        ## If JSON_FILE included a folder:\n",
    "        if len(folder)>0:\n",
    "            # create the folder\n",
    "            os.makedirs(folder,exist_ok=True)\n",
    "        ## save empty list to start the json file\n",
    "        with open(JSON_FILE,'w') as f:\n",
    "            json.dump([],f)"
   ]
  },
  {
   "cell_type": "markdown",
   "id": "890bc54f",
   "metadata": {},
   "source": [
    "## Use the new function "
   ]
  },
  {
   "cell_type": "code",
   "execution_count": 12,
   "id": "b8b79ca6",
   "metadata": {},
   "outputs": [
    {
     "name": "stdout",
     "output_type": "stream",
     "text": [
      "[!] Data/results_in_progress_NewYork_sushi.json already exists. Deleting previous file...\n",
      "[i] Data/results_in_progress_NewYork_sushi.json not found. Saving empty list to new file.\n",
      "- 0 previous results found.\n"
     ]
    },
    {
     "data": {
      "text/plain": [
       "260"
      ]
     },
     "execution_count": 12,
     "metadata": {},
     "output_type": "execute_result"
    }
   ],
   "source": [
    "## Create a new empty json file (exist the previous if it exists)\n",
    "create_json_file(JSON_FILE, delete_if_exists=True)\n",
    "## Load previous results and use len of results for offset\n",
    "with open(JSON_FILE,'r') as f:\n",
    "    previous_results = json.load(f)\n",
    "## set offset based on previous results\n",
    "n_results = len(previous_results)\n",
    "print(f'- {n_results} previous results found.')\n",
    "# use yelp_api variable's search_query method to perform API call\n",
    "results = yelp_api.search_query(location=LOCATION,\n",
    "                               term=TERM,\n",
    "                               offset=n_results)\n",
    "## How many results total?\n",
    "total_results = results['total']\n",
    "## How many did we get the details for?\n",
    "results_per_page = len(results['businesses'])\n",
    "# Use math.ceil to round up for the total number of pages of results\n",
    "n_pages = math.ceil((results['total']-n_results)/results_per_page)\n",
    "n_pages"
   ]
  },
  {
   "cell_type": "markdown",
   "id": "4112fb27",
   "metadata": {},
   "source": [
    "## For Loop to call each page, including a progress bar and a break if too many results are requested"
   ]
  },
  {
   "cell_type": "code",
   "execution_count": 13,
   "id": "5dad38a0",
   "metadata": {},
   "outputs": [
    {
     "data": {
      "application/vnd.jupyter.widget-view+json": {
       "model_id": "9510e7cf17834ef789715c420d03bb68",
       "version_major": 2,
       "version_minor": 0
      },
      "text/plain": [
       "  0%|          | 0/260 [00:00<?, ?it/s]"
      ]
     },
     "metadata": {},
     "output_type": "display_data"
    },
    {
     "name": "stdout",
     "output_type": "stream",
     "text": [
      "Exceeded 1000 api calls. Stopping loop.\n"
     ]
    }
   ],
   "source": [
    "for i in tqdm_notebook(range(1,n_pages+1)):\n",
    "    ## read in results in progress file and check the length\n",
    "    with open(JSON_FILE, 'r') as f:\n",
    "        previous_results = json.load(f)\n",
    "    ## save number of results to use as offset\n",
    "    n_results = len(previous_results)\n",
    "    if (n_results + results_per_page) >1000:\n",
    "        print('Exceeded 1000 api calls. Stopping loop.')\n",
    "        break\n",
    "    ## use n_results as the OFFSET\n",
    "    results = yelp_api.search_query(location=LOCATION,\n",
    "                                   term=TERM,\n",
    "                                   offset=n_results)\n",
    "    ## append new results and save to file\n",
    "    previous_results.extend(results['businesses'])\n",
    "    # display(previous_results)\n",
    "    with open(JSON_FILE,'w') as f:\n",
    "        json.dump(previous_results,f)\n",
    "    time.sleep(.2)"
   ]
  },
  {
   "cell_type": "markdown",
   "id": "16e1ef7b",
   "metadata": {},
   "source": [
    "## After the loop has finished, convert .json to dataframe"
   ]
  },
  {
   "cell_type": "code",
   "execution_count": 14,
   "id": "f77162e6",
   "metadata": {},
   "outputs": [
    {
     "data": {
      "text/html": [
       "<div>\n",
       "<style scoped>\n",
       "    .dataframe tbody tr th:only-of-type {\n",
       "        vertical-align: middle;\n",
       "    }\n",
       "\n",
       "    .dataframe tbody tr th {\n",
       "        vertical-align: top;\n",
       "    }\n",
       "\n",
       "    .dataframe thead th {\n",
       "        text-align: right;\n",
       "    }\n",
       "</style>\n",
       "<table border=\"1\" class=\"dataframe\">\n",
       "  <thead>\n",
       "    <tr style=\"text-align: right;\">\n",
       "      <th></th>\n",
       "      <th>id</th>\n",
       "      <th>alias</th>\n",
       "      <th>name</th>\n",
       "      <th>image_url</th>\n",
       "      <th>is_closed</th>\n",
       "      <th>url</th>\n",
       "      <th>review_count</th>\n",
       "      <th>categories</th>\n",
       "      <th>rating</th>\n",
       "      <th>coordinates</th>\n",
       "      <th>transactions</th>\n",
       "      <th>location</th>\n",
       "      <th>phone</th>\n",
       "      <th>display_phone</th>\n",
       "      <th>distance</th>\n",
       "      <th>price</th>\n",
       "    </tr>\n",
       "  </thead>\n",
       "  <tbody>\n",
       "    <tr>\n",
       "      <th>0</th>\n",
       "      <td>PjjpgjY_sdawJU1JHbyNTQ</td>\n",
       "      <td>temakase-new-york-4</td>\n",
       "      <td>Temakase</td>\n",
       "      <td>https://s3-media3.fl.yelpcdn.com/bphoto/mPHfCH...</td>\n",
       "      <td>False</td>\n",
       "      <td>https://www.yelp.com/biz/temakase-new-york-4?a...</td>\n",
       "      <td>619</td>\n",
       "      <td>[{'alias': 'sushi', 'title': 'Sushi Bars'}]</td>\n",
       "      <td>4.5</td>\n",
       "      <td>{'latitude': 40.729711, 'longitude': -73.987127}</td>\n",
       "      <td>[delivery, pickup]</td>\n",
       "      <td>{'address1': '157 Second Ave', 'address2': Non...</td>\n",
       "      <td>+12123811456</td>\n",
       "      <td>(212) 381-1456</td>\n",
       "      <td>2619.986445</td>\n",
       "      <td>NaN</td>\n",
       "    </tr>\n",
       "    <tr>\n",
       "      <th>1</th>\n",
       "      <td>BPZfuPvSxCfoppU4lPFm0Q</td>\n",
       "      <td>domodomo-new-york-new-york-4</td>\n",
       "      <td>DOMODOMO - New York</td>\n",
       "      <td>https://s3-media1.fl.yelpcdn.com/bphoto/YX89PD...</td>\n",
       "      <td>False</td>\n",
       "      <td>https://www.yelp.com/biz/domodomo-new-york-new...</td>\n",
       "      <td>1527</td>\n",
       "      <td>[{'alias': 'japanese', 'title': 'Japanese'}, {...</td>\n",
       "      <td>4.0</td>\n",
       "      <td>{'latitude': 40.7280299, 'longitude': -74.00167}</td>\n",
       "      <td>[delivery]</td>\n",
       "      <td>{'address1': '140 W Houston St', 'address2': N...</td>\n",
       "      <td>+16467070301</td>\n",
       "      <td>(646) 707-0301</td>\n",
       "      <td>3007.453428</td>\n",
       "      <td>$$$</td>\n",
       "    </tr>\n",
       "    <tr>\n",
       "      <th>2</th>\n",
       "      <td>KrJ6m_TkxBAPPSNH-G7rvQ</td>\n",
       "      <td>u-gu-brooklyn-4</td>\n",
       "      <td>U-gu</td>\n",
       "      <td>https://s3-media3.fl.yelpcdn.com/bphoto/xi4Z31...</td>\n",
       "      <td>False</td>\n",
       "      <td>https://www.yelp.com/biz/u-gu-brooklyn-4?adjus...</td>\n",
       "      <td>179</td>\n",
       "      <td>[{'alias': 'sushi', 'title': 'Sushi Bars'}, {'...</td>\n",
       "      <td>4.5</td>\n",
       "      <td>{'latitude': 40.69393, 'longitude': -73.96284}</td>\n",
       "      <td>[delivery, pickup]</td>\n",
       "      <td>{'address1': '541 Myrtle Ave', 'address2': 'St...</td>\n",
       "      <td>+17188570222</td>\n",
       "      <td>(718) 857-0222</td>\n",
       "      <td>2003.832021</td>\n",
       "      <td>$$</td>\n",
       "    </tr>\n",
       "    <tr>\n",
       "      <th>3</th>\n",
       "      <td>pqqhHTz_ZpApsaWGa_zMTA</td>\n",
       "      <td>douska-new-york</td>\n",
       "      <td>Douska</td>\n",
       "      <td>https://s3-media1.fl.yelpcdn.com/bphoto/mVPExH...</td>\n",
       "      <td>False</td>\n",
       "      <td>https://www.yelp.com/biz/douska-new-york?adjus...</td>\n",
       "      <td>192</td>\n",
       "      <td>[{'alias': 'sushi', 'title': 'Sushi Bars'}, {'...</td>\n",
       "      <td>4.5</td>\n",
       "      <td>{'latitude': 40.7191369, 'longitude': -73.9908...</td>\n",
       "      <td>[]</td>\n",
       "      <td>{'address1': '63 Delancey St', 'address2': '',...</td>\n",
       "      <td>+16466570908</td>\n",
       "      <td>(646) 657-0908</td>\n",
       "      <td>1662.674529</td>\n",
       "      <td>NaN</td>\n",
       "    </tr>\n",
       "    <tr>\n",
       "      <th>4</th>\n",
       "      <td>W0YGwDTYRjUCBgtpqHXSAg</td>\n",
       "      <td>iwak-brooklyn</td>\n",
       "      <td>IWak</td>\n",
       "      <td>https://s3-media1.fl.yelpcdn.com/bphoto/JesScm...</td>\n",
       "      <td>False</td>\n",
       "      <td>https://www.yelp.com/biz/iwak-brooklyn?adjust_...</td>\n",
       "      <td>44</td>\n",
       "      <td>[{'alias': 'sushi', 'title': 'Sushi Bars'}]</td>\n",
       "      <td>5.0</td>\n",
       "      <td>{'latitude': 40.71244591155105, 'longitude': -...</td>\n",
       "      <td>[delivery, pickup]</td>\n",
       "      <td>{'address1': '340 Grand St', 'address2': None,...</td>\n",
       "      <td>+19299924925</td>\n",
       "      <td>(929) 992-4925</td>\n",
       "      <td>2028.677522</td>\n",
       "      <td>NaN</td>\n",
       "    </tr>\n",
       "  </tbody>\n",
       "</table>\n",
       "</div>"
      ],
      "text/plain": [
       "                       id                         alias                 name  \\\n",
       "0  PjjpgjY_sdawJU1JHbyNTQ           temakase-new-york-4             Temakase   \n",
       "1  BPZfuPvSxCfoppU4lPFm0Q  domodomo-new-york-new-york-4  DOMODOMO - New York   \n",
       "2  KrJ6m_TkxBAPPSNH-G7rvQ               u-gu-brooklyn-4                 U-gu   \n",
       "3  pqqhHTz_ZpApsaWGa_zMTA               douska-new-york               Douska   \n",
       "4  W0YGwDTYRjUCBgtpqHXSAg                 iwak-brooklyn                 IWak   \n",
       "\n",
       "                                           image_url  is_closed  \\\n",
       "0  https://s3-media3.fl.yelpcdn.com/bphoto/mPHfCH...      False   \n",
       "1  https://s3-media1.fl.yelpcdn.com/bphoto/YX89PD...      False   \n",
       "2  https://s3-media3.fl.yelpcdn.com/bphoto/xi4Z31...      False   \n",
       "3  https://s3-media1.fl.yelpcdn.com/bphoto/mVPExH...      False   \n",
       "4  https://s3-media1.fl.yelpcdn.com/bphoto/JesScm...      False   \n",
       "\n",
       "                                                 url  review_count  \\\n",
       "0  https://www.yelp.com/biz/temakase-new-york-4?a...           619   \n",
       "1  https://www.yelp.com/biz/domodomo-new-york-new...          1527   \n",
       "2  https://www.yelp.com/biz/u-gu-brooklyn-4?adjus...           179   \n",
       "3  https://www.yelp.com/biz/douska-new-york?adjus...           192   \n",
       "4  https://www.yelp.com/biz/iwak-brooklyn?adjust_...            44   \n",
       "\n",
       "                                          categories  rating  \\\n",
       "0        [{'alias': 'sushi', 'title': 'Sushi Bars'}]     4.5   \n",
       "1  [{'alias': 'japanese', 'title': 'Japanese'}, {...     4.0   \n",
       "2  [{'alias': 'sushi', 'title': 'Sushi Bars'}, {'...     4.5   \n",
       "3  [{'alias': 'sushi', 'title': 'Sushi Bars'}, {'...     4.5   \n",
       "4        [{'alias': 'sushi', 'title': 'Sushi Bars'}]     5.0   \n",
       "\n",
       "                                         coordinates        transactions  \\\n",
       "0   {'latitude': 40.729711, 'longitude': -73.987127}  [delivery, pickup]   \n",
       "1   {'latitude': 40.7280299, 'longitude': -74.00167}          [delivery]   \n",
       "2     {'latitude': 40.69393, 'longitude': -73.96284}  [delivery, pickup]   \n",
       "3  {'latitude': 40.7191369, 'longitude': -73.9908...                  []   \n",
       "4  {'latitude': 40.71244591155105, 'longitude': -...  [delivery, pickup]   \n",
       "\n",
       "                                            location         phone  \\\n",
       "0  {'address1': '157 Second Ave', 'address2': Non...  +12123811456   \n",
       "1  {'address1': '140 W Houston St', 'address2': N...  +16467070301   \n",
       "2  {'address1': '541 Myrtle Ave', 'address2': 'St...  +17188570222   \n",
       "3  {'address1': '63 Delancey St', 'address2': '',...  +16466570908   \n",
       "4  {'address1': '340 Grand St', 'address2': None,...  +19299924925   \n",
       "\n",
       "    display_phone     distance price  \n",
       "0  (212) 381-1456  2619.986445   NaN  \n",
       "1  (646) 707-0301  3007.453428   $$$  \n",
       "2  (718) 857-0222  2003.832021    $$  \n",
       "3  (646) 657-0908  1662.674529   NaN  \n",
       "4  (929) 992-4925  2028.677522   NaN  "
      ]
     },
     "metadata": {},
     "output_type": "display_data"
    },
    {
     "data": {
      "text/html": [
       "<div>\n",
       "<style scoped>\n",
       "    .dataframe tbody tr th:only-of-type {\n",
       "        vertical-align: middle;\n",
       "    }\n",
       "\n",
       "    .dataframe tbody tr th {\n",
       "        vertical-align: top;\n",
       "    }\n",
       "\n",
       "    .dataframe thead th {\n",
       "        text-align: right;\n",
       "    }\n",
       "</style>\n",
       "<table border=\"1\" class=\"dataframe\">\n",
       "  <thead>\n",
       "    <tr style=\"text-align: right;\">\n",
       "      <th></th>\n",
       "      <th>id</th>\n",
       "      <th>alias</th>\n",
       "      <th>name</th>\n",
       "      <th>image_url</th>\n",
       "      <th>is_closed</th>\n",
       "      <th>url</th>\n",
       "      <th>review_count</th>\n",
       "      <th>categories</th>\n",
       "      <th>rating</th>\n",
       "      <th>coordinates</th>\n",
       "      <th>transactions</th>\n",
       "      <th>location</th>\n",
       "      <th>phone</th>\n",
       "      <th>display_phone</th>\n",
       "      <th>distance</th>\n",
       "      <th>price</th>\n",
       "    </tr>\n",
       "  </thead>\n",
       "  <tbody>\n",
       "    <tr>\n",
       "      <th>995</th>\n",
       "      <td>G9SWgxH65OBQaJaE8dHkbw</td>\n",
       "      <td>zest-ramen-new-york-8</td>\n",
       "      <td>Zest Ramen</td>\n",
       "      <td>https://s3-media4.fl.yelpcdn.com/bphoto/WedjEl...</td>\n",
       "      <td>False</td>\n",
       "      <td>https://www.yelp.com/biz/zest-ramen-new-york-8...</td>\n",
       "      <td>317</td>\n",
       "      <td>[{'alias': 'ramen', 'title': 'Ramen'}, {'alias...</td>\n",
       "      <td>4.5</td>\n",
       "      <td>{'latitude': 40.71816, 'longitude': -73.99186}</td>\n",
       "      <td>[delivery, restaurant_reservation, pickup]</td>\n",
       "      <td>{'address1': '112 Eldridge St', 'address2': No...</td>\n",
       "      <td>+12122262801</td>\n",
       "      <td>(212) 226-2801</td>\n",
       "      <td>1630.286100</td>\n",
       "      <td>$$</td>\n",
       "    </tr>\n",
       "    <tr>\n",
       "      <th>996</th>\n",
       "      <td>g4VEbY00UvMdu9X9JWgOBQ</td>\n",
       "      <td>inatome-japanese-steak-sushi-valley-stream</td>\n",
       "      <td>Inatome Japanese Steak + Sushi</td>\n",
       "      <td>https://s3-media3.fl.yelpcdn.com/bphoto/lrCnnz...</td>\n",
       "      <td>False</td>\n",
       "      <td>https://www.yelp.com/biz/inatome-japanese-stea...</td>\n",
       "      <td>281</td>\n",
       "      <td>[{'alias': 'japanese', 'title': 'Japanese'}, {...</td>\n",
       "      <td>4.0</td>\n",
       "      <td>{'latitude': 40.65671, 'longitude': -73.70005}</td>\n",
       "      <td>[delivery, pickup]</td>\n",
       "      <td>{'address1': '6 5th St', 'address2': '', 'addr...</td>\n",
       "      <td>+15168720419</td>\n",
       "      <td>(516) 872-0419</td>\n",
       "      <td>24186.397466</td>\n",
       "      <td>$$</td>\n",
       "    </tr>\n",
       "    <tr>\n",
       "      <th>997</th>\n",
       "      <td>XsrgJT6dl06kAaecLD5ECA</td>\n",
       "      <td>asagao-sushi-croton-on-hudson</td>\n",
       "      <td>Asagao Sushi</td>\n",
       "      <td>https://s3-media4.fl.yelpcdn.com/bphoto/B77b0N...</td>\n",
       "      <td>False</td>\n",
       "      <td>https://www.yelp.com/biz/asagao-sushi-croton-o...</td>\n",
       "      <td>143</td>\n",
       "      <td>[{'alias': 'sushi', 'title': 'Sushi Bars'}, {'...</td>\n",
       "      <td>4.0</td>\n",
       "      <td>{'latitude': 41.2005096, 'longitude': -73.8852...</td>\n",
       "      <td>[delivery]</td>\n",
       "      <td>{'address1': '8 Maple St', 'address2': None, '...</td>\n",
       "      <td>+19142710770</td>\n",
       "      <td>(914) 271-0770</td>\n",
       "      <td>55443.023224</td>\n",
       "      <td>$$</td>\n",
       "    </tr>\n",
       "    <tr>\n",
       "      <th>998</th>\n",
       "      <td>JCWMlkBqLxbAAK9-FQXTmg</td>\n",
       "      <td>kushi-asian-fusion-brooklyn-3</td>\n",
       "      <td>Kushi Asian Fusion</td>\n",
       "      <td>https://s3-media2.fl.yelpcdn.com/bphoto/tXz__4...</td>\n",
       "      <td>False</td>\n",
       "      <td>https://www.yelp.com/biz/kushi-asian-fusion-br...</td>\n",
       "      <td>138</td>\n",
       "      <td>[{'alias': 'asianfusion', 'title': 'Asian Fusi...</td>\n",
       "      <td>3.5</td>\n",
       "      <td>{'latitude': 40.6053, 'longitude': -73.99972}</td>\n",
       "      <td>[delivery, pickup]</td>\n",
       "      <td>{'address1': '1934 86st', 'address2': None, 'a...</td>\n",
       "      <td>+17189753588</td>\n",
       "      <td>(718) 975-3588</td>\n",
       "      <td>11447.916804</td>\n",
       "      <td>$$</td>\n",
       "    </tr>\n",
       "    <tr>\n",
       "      <th>999</th>\n",
       "      <td>9xRIcn0jTyvWNH9aBO3oAA</td>\n",
       "      <td>kenka-new-york</td>\n",
       "      <td>Kenka</td>\n",
       "      <td>https://s3-media2.fl.yelpcdn.com/bphoto/sl7IDI...</td>\n",
       "      <td>False</td>\n",
       "      <td>https://www.yelp.com/biz/kenka-new-york?adjust...</td>\n",
       "      <td>1646</td>\n",
       "      <td>[{'alias': 'sushi', 'title': 'Sushi Bars'}, {'...</td>\n",
       "      <td>3.5</td>\n",
       "      <td>{'latitude': 40.72913, 'longitude': -73.988465}</td>\n",
       "      <td>[delivery]</td>\n",
       "      <td>{'address1': '25 St Marks Pl', 'address2': '',...</td>\n",
       "      <td>+12122546363</td>\n",
       "      <td>(212) 254-6363</td>\n",
       "      <td>2584.349321</td>\n",
       "      <td>$$</td>\n",
       "    </tr>\n",
       "  </tbody>\n",
       "</table>\n",
       "</div>"
      ],
      "text/plain": [
       "                         id                                       alias  \\\n",
       "995  G9SWgxH65OBQaJaE8dHkbw                       zest-ramen-new-york-8   \n",
       "996  g4VEbY00UvMdu9X9JWgOBQ  inatome-japanese-steak-sushi-valley-stream   \n",
       "997  XsrgJT6dl06kAaecLD5ECA               asagao-sushi-croton-on-hudson   \n",
       "998  JCWMlkBqLxbAAK9-FQXTmg               kushi-asian-fusion-brooklyn-3   \n",
       "999  9xRIcn0jTyvWNH9aBO3oAA                              kenka-new-york   \n",
       "\n",
       "                               name  \\\n",
       "995                      Zest Ramen   \n",
       "996  Inatome Japanese Steak + Sushi   \n",
       "997                    Asagao Sushi   \n",
       "998             Kushi Asian Fusion    \n",
       "999                           Kenka   \n",
       "\n",
       "                                             image_url  is_closed  \\\n",
       "995  https://s3-media4.fl.yelpcdn.com/bphoto/WedjEl...      False   \n",
       "996  https://s3-media3.fl.yelpcdn.com/bphoto/lrCnnz...      False   \n",
       "997  https://s3-media4.fl.yelpcdn.com/bphoto/B77b0N...      False   \n",
       "998  https://s3-media2.fl.yelpcdn.com/bphoto/tXz__4...      False   \n",
       "999  https://s3-media2.fl.yelpcdn.com/bphoto/sl7IDI...      False   \n",
       "\n",
       "                                                   url  review_count  \\\n",
       "995  https://www.yelp.com/biz/zest-ramen-new-york-8...           317   \n",
       "996  https://www.yelp.com/biz/inatome-japanese-stea...           281   \n",
       "997  https://www.yelp.com/biz/asagao-sushi-croton-o...           143   \n",
       "998  https://www.yelp.com/biz/kushi-asian-fusion-br...           138   \n",
       "999  https://www.yelp.com/biz/kenka-new-york?adjust...          1646   \n",
       "\n",
       "                                            categories  rating  \\\n",
       "995  [{'alias': 'ramen', 'title': 'Ramen'}, {'alias...     4.5   \n",
       "996  [{'alias': 'japanese', 'title': 'Japanese'}, {...     4.0   \n",
       "997  [{'alias': 'sushi', 'title': 'Sushi Bars'}, {'...     4.0   \n",
       "998  [{'alias': 'asianfusion', 'title': 'Asian Fusi...     3.5   \n",
       "999  [{'alias': 'sushi', 'title': 'Sushi Bars'}, {'...     3.5   \n",
       "\n",
       "                                           coordinates  \\\n",
       "995     {'latitude': 40.71816, 'longitude': -73.99186}   \n",
       "996     {'latitude': 40.65671, 'longitude': -73.70005}   \n",
       "997  {'latitude': 41.2005096, 'longitude': -73.8852...   \n",
       "998      {'latitude': 40.6053, 'longitude': -73.99972}   \n",
       "999    {'latitude': 40.72913, 'longitude': -73.988465}   \n",
       "\n",
       "                                   transactions  \\\n",
       "995  [delivery, restaurant_reservation, pickup]   \n",
       "996                          [delivery, pickup]   \n",
       "997                                  [delivery]   \n",
       "998                          [delivery, pickup]   \n",
       "999                                  [delivery]   \n",
       "\n",
       "                                              location         phone  \\\n",
       "995  {'address1': '112 Eldridge St', 'address2': No...  +12122262801   \n",
       "996  {'address1': '6 5th St', 'address2': '', 'addr...  +15168720419   \n",
       "997  {'address1': '8 Maple St', 'address2': None, '...  +19142710770   \n",
       "998  {'address1': '1934 86st', 'address2': None, 'a...  +17189753588   \n",
       "999  {'address1': '25 St Marks Pl', 'address2': '',...  +12122546363   \n",
       "\n",
       "      display_phone      distance price  \n",
       "995  (212) 226-2801   1630.286100    $$  \n",
       "996  (516) 872-0419  24186.397466    $$  \n",
       "997  (914) 271-0770  55443.023224    $$  \n",
       "998  (718) 975-3588  11447.916804    $$  \n",
       "999  (212) 254-6363   2584.349321    $$  "
      ]
     },
     "metadata": {},
     "output_type": "display_data"
    }
   ],
   "source": [
    "# load final results\n",
    "final_df = pd.read_json(JSON_FILE)\n",
    "display(final_df.head(), final_df.tail())"
   ]
  },
  {
   "cell_type": "markdown",
   "id": "4bd61287",
   "metadata": {},
   "source": [
    "## Check for duplicates"
   ]
  },
  {
   "cell_type": "code",
   "execution_count": 15,
   "id": "822ab6da",
   "metadata": {},
   "outputs": [
    {
     "data": {
      "text/plain": [
       "3"
      ]
     },
     "execution_count": 15,
     "metadata": {},
     "output_type": "execute_result"
    }
   ],
   "source": [
    "# check for duplicate ID's \n",
    "final_df.duplicated(subset='id').sum()"
   ]
  },
  {
   "cell_type": "code",
   "execution_count": 16,
   "id": "06548b47",
   "metadata": {},
   "outputs": [
    {
     "data": {
      "text/plain": [
       "0"
      ]
     },
     "execution_count": 16,
     "metadata": {},
     "output_type": "execute_result"
    }
   ],
   "source": [
    "## Drop duplicate ids and confirm there are no more duplicates\n",
    "final_df = final_df.drop_duplicates(subset='id')\n",
    "final_df.duplicated(subset='id').sum()"
   ]
  },
  {
   "cell_type": "markdown",
   "id": "02e01dbd",
   "metadata": {},
   "source": [
    "## Save the final DataFrame to a .csv (or a .csv.gz if its too big for the GitHub file size limit)."
   ]
  },
  {
   "cell_type": "code",
   "execution_count": 17,
   "id": "268b7a22",
   "metadata": {},
   "outputs": [],
   "source": [
    "# save the final results to a compressed csv\n",
    "final_df.to_csv('Data/final_results_NewYork_sushi.csv.gz', compression='gzip',index=False)"
   ]
  },
  {
   "cell_type": "code",
   "execution_count": null,
   "id": "cf785777",
   "metadata": {},
   "outputs": [],
   "source": []
  }
 ],
 "metadata": {
  "kernelspec": {
   "display_name": "Python (dojo-env)",
   "language": "python",
   "name": "dojo-env"
  },
  "language_info": {
   "codemirror_mode": {
    "name": "ipython",
    "version": 3
   },
   "file_extension": ".py",
   "mimetype": "text/x-python",
   "name": "python",
   "nbconvert_exporter": "python",
   "pygments_lexer": "ipython3",
   "version": "3.9.15"
  },
  "toc": {
   "base_numbering": 1,
   "nav_menu": {},
   "number_sections": false,
   "sideBar": true,
   "skip_h1_title": false,
   "title_cell": "Table of Contents",
   "title_sidebar": "Contents",
   "toc_cell": false,
   "toc_position": {},
   "toc_section_display": true,
   "toc_window_display": false
  }
 },
 "nbformat": 4,
 "nbformat_minor": 5
}
